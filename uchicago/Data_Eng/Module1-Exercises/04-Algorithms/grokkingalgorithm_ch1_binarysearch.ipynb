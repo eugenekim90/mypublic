{
 "cells": [
  {
   "cell_type": "markdown",
   "metadata": {},
   "source": [
    "#### DATA ENGINEERING PLATFORMS (MSCA 31012)\n",
    "#### GROKKING ALGORITHMS\n",
    "References : \n",
    "https://www.manning.com/books/grokking-algorithms\n",
    "https://realpython.com/binary-search-python/\n",
    "https://towardsdatascience.com/a-guide-to-linear-search-and-binary-search-on-arrays-data-structures-algorithms-2c23a74af28a\n",
    "\n",
    "An algorithm is a set of instructions for accomplishing a task. \n",
    "\n",
    "Binary search\n",
    "Binary search only works when the input list is ***already sorted***. If an element you’re looking for is in that list, binary search returns the position where it’s located. Otherwise, binary search returns null.\n",
    "\n",
    "Suppose you’re searching for a person in the phone book (what an old- fashioned sentence!). Their name starts with K. You could start at the beginning and keep flipping pages until you get to the K. But you’re more likely to start at a page in the middle, because you know the Ks are going to be near the middle of the phone book. Or suppose you’re searching for a word in a dictionary, and it starts with O. Again, you’ll start near the middle. Now suppose you log on to Facebook. When you do, Facebook has to verify that you have an account on the site. So, it needs to search for your username in its database. Suppose your username is karlmageddon. Facebook could start from the As and search for your name—but it makes more sense for it to begin somewhere in the middle.\n",
    "\n",
    "This is a search problem. And all these cases use the same algorithm to solve the problem: binary search. With binary search, you guess the middle number and eliminate half the remaining numbers every time\n",
    "\n",
    "Suppose you’re looking for a word in the dictionary. The dictionary has 240,000 words. In the worst case, how many steps do you think each search will take? Simple search could take 240,000 steps if the word you’re looking for is the very last one in the book. With each step of binary search, you cut the number of words in half until you’re left with only one word.Binary search will take 18 steps—a big difference! In general, for any list of n, binary search will take log2n steps to run in the worst case, whereas simple search will take n steps.\n",
    "\n",
    "Big O notation is special notation that tells you how fast an algorithm is.Big O notation lets you compare the number of operations. It tells you how fast the algorithm grows.\n",
    "\n",
    "Run times:\n",
    "* Binary search: O(logn)\n",
    "* Simple search: O(n)"
   ]
  },
  {
   "cell_type": "code",
   "execution_count": 5,
   "metadata": {},
   "outputs": [],
   "source": [
    "# Binary Search Algorithm\n",
    "def binary_search(list, item):\n",
    "    # low and high keep track of which part of the list you’ll search in.\n",
    "    low = 0\n",
    "    high = len(list) - 1\n",
    "    \n",
    "    # While you haven’t narrowed it down to one element \n",
    "    while low <= high:\n",
    "        mid = int((low + high) / 2)  # check the middle element.\n",
    "        guess = list[mid]\n",
    "        if guess == item:  # Found the item.\n",
    "            return mid\n",
    "        if guess > item:   # The guess was too high.\n",
    "            high = mid - 1\n",
    "        else:              # The guess was too low.\n",
    "            low = mid + 1\n",
    "    return None            # The item doesn’t exist."
   ]
  },
  {
   "cell_type": "code",
   "execution_count": 6,
   "metadata": {},
   "outputs": [
    {
     "name": "stdout",
     "output_type": "stream",
     "text": [
      "0\n"
     ]
    }
   ],
   "source": [
    "# Testing:\n",
    "my_list = [1, 3, 5, 7, 9]\n",
    "\n",
    "print(binary_search(my_list, 1))"
   ]
  },
  {
   "cell_type": "code",
   "execution_count": 7,
   "metadata": {},
   "outputs": [
    {
     "name": "stdout",
     "output_type": "stream",
     "text": [
      "None\n"
     ]
    }
   ],
   "source": [
    "print(binary_search(my_list, 8))"
   ]
  },
  {
   "cell_type": "code",
   "execution_count": 8,
   "metadata": {},
   "outputs": [
    {
     "name": "stdout",
     "output_type": "stream",
     "text": [
      "4\n"
     ]
    }
   ],
   "source": [
    "print(binary_search(my_list, 9))"
   ]
  }
 ],
 "metadata": {
  "kernelspec": {
   "display_name": "Python 3",
   "language": "python",
   "name": "python3"
  },
  "language_info": {
   "codemirror_mode": {
    "name": "ipython",
    "version": 3
   },
   "file_extension": ".py",
   "mimetype": "text/x-python",
   "name": "python",
   "nbconvert_exporter": "python",
   "pygments_lexer": "ipython3",
   "version": "3.7.4"
  },
  "latex_envs": {
   "LaTeX_envs_menu_present": true,
   "autocomplete": true,
   "bibliofile": "biblio.bib",
   "cite_by": "apalike",
   "current_citInitial": 1,
   "eqLabelWithNumbers": true,
   "eqNumInitial": 1,
   "hotkeys": {
    "equation": "Ctrl-E",
    "itemize": "Ctrl-I"
   },
   "labels_anchors": false,
   "latex_user_defs": false,
   "report_style_numbering": false,
   "user_envs_cfg": false
  },
  "varInspector": {
   "cols": {
    "lenName": 16,
    "lenType": 16,
    "lenVar": 40
   },
   "kernels_config": {
    "python": {
     "delete_cmd_postfix": "",
     "delete_cmd_prefix": "del ",
     "library": "var_list.py",
     "varRefreshCmd": "print(var_dic_list())"
    },
    "r": {
     "delete_cmd_postfix": ") ",
     "delete_cmd_prefix": "rm(",
     "library": "var_list.r",
     "varRefreshCmd": "cat(var_dic_list()) "
    }
   },
   "types_to_exclude": [
    "module",
    "function",
    "builtin_function_or_method",
    "instance",
    "_Feature"
   ],
   "window_display": false
  }
 },
 "nbformat": 4,
 "nbformat_minor": 2
}
