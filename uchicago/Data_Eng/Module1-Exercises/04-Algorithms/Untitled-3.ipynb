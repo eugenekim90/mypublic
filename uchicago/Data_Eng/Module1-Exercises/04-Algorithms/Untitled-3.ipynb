{
 "cells": [
  {
   "cell_type": "code",
   "execution_count": 33,
   "metadata": {},
   "outputs": [
    {
     "data": {
      "text/plain": [
       "46.670921736986706"
      ]
     },
     "execution_count": 33,
     "metadata": {},
     "output_type": "execute_result"
    }
   ],
   "source": [
    "import math\n",
    "\n",
    "# Given values\n",
    "a = 3.6\n",
    "b = 5.3\n",
    "c = 8.4\n",
    "d = 10.2\n",
    "alpha = 117  # degrees\n",
    "\n",
    "# Calculate the diagonal using the Law of Cosines\n",
    "alpha_rad = math.radians(alpha)\n",
    "AC_squared = a**2 + b**2 - 2 * a * b * math.cos(alpha_rad)\n",
    "AC = math.sqrt(AC_squared)\n",
    "\n",
    "# Calculate the area of the first triangle\n",
    "area_triangle1 = 0.5 * a * b * math.sin(alpha_rad)\n",
    "\n",
    "# Assuming we calculate the angle between sides c and d using the Law of Cosines or provided angle\n",
    "# Here we need to determine the angle or the area for the second triangle based on the quadrilateral's properties.\n",
    "\n",
    "# Placeholder for area of triangle 2; for now, let's assume we need to find the area directly\n",
    "# area_triangle2 = ...  # This will depend on known angles or additional information\n",
    "\n",
    "# Total area would be area_triangle1 + area_triangle2\n",
    "total_area = area_triangle1 + area_triangle2  # Assuming area_triangle2 is computed\n",
    "\n",
    "total_area"
   ]
  },
  {
   "cell_type": "code",
   "execution_count": 23,
   "metadata": {},
   "outputs": [
    {
     "data": {
      "text/plain": [
       "2.4721359549995796"
      ]
     },
     "execution_count": 23,
     "metadata": {},
     "output_type": "execute_result"
    }
   ],
   "source": [
    "2*(math.sqrt(5)-1)"
   ]
  }
 ],
 "metadata": {
  "kernelspec": {
   "display_name": "Python 3",
   "language": "python",
   "name": "python3"
  },
  "language_info": {
   "codemirror_mode": {
    "name": "ipython",
    "version": 3
   },
   "file_extension": ".py",
   "mimetype": "text/x-python",
   "name": "python",
   "nbconvert_exporter": "python",
   "pygments_lexer": "ipython3",
   "version": "3.12.6"
  }
 },
 "nbformat": 4,
 "nbformat_minor": 2
}
